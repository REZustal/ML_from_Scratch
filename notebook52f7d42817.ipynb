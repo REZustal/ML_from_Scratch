{
 "cells": [
  {
   "cell_type": "code",
   "execution_count": 1,
   "id": "1357f38d",
   "metadata": {
    "execution": {
     "iopub.execute_input": "2022-12-14T20:44:25.502069Z",
     "iopub.status.busy": "2022-12-14T20:44:25.501586Z",
     "iopub.status.idle": "2022-12-14T20:44:26.555998Z",
     "shell.execute_reply": "2022-12-14T20:44:26.554930Z"
    },
    "id": "G4Ydmp4JiA1_",
    "papermill": {
     "duration": 1.065413,
     "end_time": "2022-12-14T20:44:26.558888",
     "exception": false,
     "start_time": "2022-12-14T20:44:25.493475",
     "status": "completed"
    },
    "tags": []
   },
   "outputs": [],
   "source": [
    "import numpy as np \n",
    "from sklearn.cluster import KMeans\n",
    "import matplotlib.pyplot as plt\n",
    "D = np.array([[23,30.4], [21.1,33.9], [32,43.3], [19,29.1], [24.2,41.2], [18.3,31.7], [17.5,24.7], [33.5,41], [33.8,38.8], [30.7,40.1]])\n",
    "x=[23, 21.1, 32, 19, 24.2, 18.3, 17.5, 33.5, 33.8, 30.7]\n",
    "y=[30.4, 33.9, 43.3, 29.1, 41.2, 31.7, 24.7, 41, 38.8, 40.1]\n",
    "k=2\n",
    "Mx1=[21,33]\n",
    "My1=[31,47]\n",
    "cx=0.01"
   ]
  },
  {
   "cell_type": "code",
   "execution_count": 2,
   "id": "909ee69e",
   "metadata": {
    "execution": {
     "iopub.execute_input": "2022-12-14T20:44:26.578068Z",
     "iopub.status.busy": "2022-12-14T20:44:26.577595Z",
     "iopub.status.idle": "2022-12-14T20:44:26.590680Z",
     "shell.execute_reply": "2022-12-14T20:44:26.589832Z"
    },
    "id": "GZ8GlViwiA2B",
    "papermill": {
     "duration": 0.024408,
     "end_time": "2022-12-14T20:44:26.593144",
     "exception": false,
     "start_time": "2022-12-14T20:44:26.568736",
     "status": "completed"
    },
    "tags": []
   },
   "outputs": [],
   "source": [
    "def Kmeans(x,y,cx,Mx,My):\n",
    "    smes=np.inf\n",
    "    while smes>cx:\n",
    "        list1=[]\n",
    "        list2=[]\n",
    "        for i in range(len(x)):\n",
    "            if ((x[i]-Mx[0])**2+(y[i]-My[0])**2)<((x[i]-Mx[1])**2+(y[i]-My[1])**2):\n",
    "                list1=list1+[(x[i],y[i])]\n",
    "            else:\n",
    "                list2=list2+[(x[i],y[i])]\n",
    "        sumx1,sumx2,sumy1,sumy2=0,0,0,0\n",
    "        for i in range(len(list1)):\n",
    "            sumx1+=list1[i][0]/len(list1)\n",
    "            sumy1+=list1[i][1]/len(list1)\n",
    "        for i in range(len(list2)):\n",
    "            sumx2+=list2[i][0]/len(list2)\n",
    "            sumy2+=list2[i][1]/len(list2)\n",
    "        smes_c1=(sumx1-Mx[0])**2+(sumy1-My[0])**2\n",
    "        smes_c2=(sumx2-Mx[1])**2+(sumy2-My[1])**2\n",
    "        smes=smes_c1+smes_c2\n",
    "        Mx=[round(sumx1,2),round(sumx2,2)]\n",
    "        My=[round(sumy1,2),round(sumy2,2)]\n",
    "    return Mx,My,list1,list2"
   ]
  },
  {
   "cell_type": "code",
   "execution_count": 3,
   "id": "a5a0d8db",
   "metadata": {
    "execution": {
     "iopub.execute_input": "2022-12-14T20:44:26.607132Z",
     "iopub.status.busy": "2022-12-14T20:44:26.606283Z",
     "iopub.status.idle": "2022-12-14T20:44:26.615035Z",
     "shell.execute_reply": "2022-12-14T20:44:26.613839Z"
    },
    "id": "mbHnepAPiA2C",
    "outputId": "c57f25cf-23da-4b41-e4b8-a27916d3d54b",
    "papermill": {
     "duration": 0.018508,
     "end_time": "2022-12-14T20:44:26.617554",
     "exception": false,
     "start_time": "2022-12-14T20:44:26.599046",
     "status": "completed"
    },
    "tags": []
   },
   "outputs": [
    {
     "name": "stdout",
     "output_type": "stream",
     "text": [
      "Центроид первого кластера:  [19.78, 29.96]\n",
      "Кластер 1: [(23, 30.4), (21.1, 33.9), (19, 29.1), (18.3, 31.7), (17.5, 24.7)]\n",
      "Центроид второго кластера:  [30.84, 40.88]\n",
      "Кластер 2: [(32, 43.3), (24.2, 41.2), (33.5, 41), (33.8, 38.8), (30.7, 40.1)]\n"
     ]
    }
   ],
   "source": [
    "Mx_new,My_new,list1,list2=Kmeans(x,y,cx,Mx1,My1)\n",
    "print(\"Центроид первого кластера: \",[Mx_new[0],My_new[0]])\n",
    "print(\"Кластер 1:\",list1)\n",
    "print(\"Центроид второго кластера: \",[Mx_new[1],My_new[1]])\n",
    "print(\"Кластер 2:\",list2)\n"
   ]
  },
  {
   "cell_type": "code",
   "execution_count": 4,
   "id": "e501caa5",
   "metadata": {
    "execution": {
     "iopub.execute_input": "2022-12-14T20:44:26.630550Z",
     "iopub.status.busy": "2022-12-14T20:44:26.629836Z",
     "iopub.status.idle": "2022-12-14T20:44:26.639662Z",
     "shell.execute_reply": "2022-12-14T20:44:26.638805Z"
    },
    "id": "uvbgOj22iA2D",
    "papermill": {
     "duration": 0.019164,
     "end_time": "2022-12-14T20:44:26.642169",
     "exception": false,
     "start_time": "2022-12-14T20:44:26.623005",
     "status": "completed"
    },
    "tags": []
   },
   "outputs": [],
   "source": [
    "def grafic(x,y,cx,Mx,My):\n",
    "    Mx,My,list1,list2=Kmeans(x,y,cx,Mx,My)\n",
    "    plt.subplots(figsize=(10, 6))\n",
    "    for i in range(len(list1)):\n",
    "        plt.plot(list1[i][0],list1[i][1],'ro')\n",
    "        plt.text(list1[i][0]+0.5,list1[i][1]-0.5,f\"({list1[i][0],list1[i][1]})\")\n",
    "    for i in range(len(list2)):\n",
    "        plt.plot(list2[i][0],list2[i][1],'bo')\n",
    "        plt.text(list2[i][0]+0.5,list2[i][1]-0.5,f\"({list2[i][0],list2[i][1]})\")\n",
    "    plt.plot(Mx[0],My[0],'yo')\n",
    "    plt.text(Mx[0]+0.5,My[0]+0.2,\"(centre C1)\")\n",
    "    plt.plot(Mx[1],My[1],'ko')\n",
    "    plt.text(Mx[1]+0.5,My[1]+0.2,\"(centre C2)\")"
   ]
  },
  {
   "cell_type": "code",
   "execution_count": 5,
   "id": "d94b05dc",
   "metadata": {
    "execution": {
     "iopub.execute_input": "2022-12-14T20:44:26.654787Z",
     "iopub.status.busy": "2022-12-14T20:44:26.654052Z",
     "iopub.status.idle": "2022-12-14T20:44:26.980220Z",
     "shell.execute_reply": "2022-12-14T20:44:26.979069Z"
    },
    "id": "jzbzBhaLiA2D",
    "outputId": "1db137ff-1c6d-483b-847e-d016278afea1",
    "papermill": {
     "duration": 0.335124,
     "end_time": "2022-12-14T20:44:26.982682",
     "exception": false,
     "start_time": "2022-12-14T20:44:26.647558",
     "status": "completed"
    },
    "tags": []
   },
   "outputs": [
    {
     "data": {
      "image/png": "[encoded data removed]",
      "text/plain": [
       "<Figure size 720x432 with 1 Axes>"
      ]
     },
     "metadata": {
      "needs_background": "light"
     },
     "output_type": "display_data"
    }
   ],
   "source": [
    "grafic(x,y,cx,Mx1,My1)"
   ]
  },
  {
   "cell_type": "code",
   "execution_count": 6,
   "id": "dde339c3",
   "metadata": {
    "execution": {
     "iopub.execute_input": "2022-12-14T20:44:26.996495Z",
     "iopub.status.busy": "2022-12-14T20:44:26.996113Z",
     "iopub.status.idle": "2022-12-14T20:44:27.238136Z",
     "shell.execute_reply": "2022-12-14T20:44:27.237073Z"
    },
    "id": "r9ChV92oiA2D",
    "outputId": "f447d37c-3612-46c5-a100-1a2828311099",
    "papermill": {
     "duration": 0.252,
     "end_time": "2022-12-14T20:44:27.240927",
     "exception": false,
     "start_time": "2022-12-14T20:44:26.988927",
     "status": "completed"
    },
    "tags": []
   },
   "outputs": [
    {
     "name": "stdout",
     "output_type": "stream",
     "text": [
      "[[19.78 29.96]\n",
      " [30.84 40.88]]\n"
     ]
    },
    {
     "data": {
      "image/png": "[encoded data removed]",
      "text/plain": [
       "<Figure size 432x288 with 1 Axes>"
      ]
     },
     "metadata": {
      "needs_background": "light"
     },
     "output_type": "display_data"
    }
   ],
   "source": [
    "kmeans=KMeans(n_clusters=k)\n",
    "kmeans.fit(D)\n",
    "print(kmeans.cluster_centers_)\n",
    "plt.scatter(D[:,0],D[:,1], c=kmeans.labels_, cmap='rainbow')\n",
    "plt.plot(kmeans.cluster_centers_[0][0],kmeans.cluster_centers_[0][1],'ko')\n",
    "plt.plot(kmeans.cluster_centers_[1][0],kmeans.cluster_centers_[1][1],'yo')\n",
    "plt.show()"
   ]
  },
  {
   "cell_type": "code",
   "execution_count": 7,
   "id": "f5651420",
   "metadata": {
    "execution": {
     "iopub.execute_input": "2022-12-14T20:44:27.255958Z",
     "iopub.status.busy": "2022-12-14T20:44:27.255530Z",
     "iopub.status.idle": "2022-12-14T20:44:27.557552Z",
     "shell.execute_reply": "2022-12-14T20:44:27.555863Z"
    },
    "id": "Yaf2NFxaiA2E",
    "outputId": "17e6b30f-0336-4e52-cbee-4e7f5b83313c",
    "papermill": {
     "duration": 0.312238,
     "end_time": "2022-12-14T20:44:27.560101",
     "exception": false,
     "start_time": "2022-12-14T20:44:27.247863",
     "status": "completed"
    },
    "tags": []
   },
   "outputs": [
    {
     "data": {
      "image/png": "[encoded data removed]",
      "text/plain": [
       "<Figure size 720x432 with 1 Axes>"
      ]
     },
     "metadata": {
      "needs_background": "light"
     },
     "output_type": "display_data"
    }
   ],
   "source": [
    "x=x+[22]\n",
    "y=y+[-18]\n",
    "grafic(x,y,cx,Mx1,My1)"
   ]
  },
  {
   "cell_type": "code",
   "execution_count": 8,
   "id": "ea19fb57",
   "metadata": {
    "execution": {
     "iopub.execute_input": "2022-12-14T20:44:27.576056Z",
     "iopub.status.busy": "2022-12-14T20:44:27.575119Z",
     "iopub.status.idle": "2022-12-14T20:44:27.588385Z",
     "shell.execute_reply": "2022-12-14T20:44:27.586980Z"
    },
    "id": "pV2npn0XiA2E",
    "outputId": "3df9f990-ddd4-40c8-c95d-73a6984d114a",
    "papermill": {
     "duration": 0.024037,
     "end_time": "2022-12-14T20:44:27.591092",
     "exception": false,
     "start_time": "2022-12-14T20:44:27.567055",
     "status": "completed"
    },
    "tags": []
   },
   "outputs": [
    {
     "name": "stdout",
     "output_type": "stream",
     "text": [
      "Оценка максимального правдоподобия для среднего 1: 12.526530612244896\n",
      "Оценка максимального правдоподобия для среднего 2: 4.130232558139535\n",
      "Вероятность принадлежности к 1 кластеру: 0.24470078513861504\n",
      "Вероятность принадлежности к 2 кластеру: 0.755299214861385\n"
     ]
    }
   ],
   "source": [
    "from scipy. stats import norm\n",
    "x_1=[5.7,15.6,6.7,2.7,1.4,15.8,4.1,6.9,15.7,9.9]\n",
    "p1=[0.2,1,0.2,0.1,0.1,1,0.1,0.3,1,0.9]\n",
    "p2=[0.8,0,0.0,0.9,0.9,0,0.9,0.7,0,0.1]\n",
    "s1,s1_1,s2,s2_2=0,0,0,0\n",
    "for i in range(len(x_1)):\n",
    "    s1+=p1[i]*x_1[i]\n",
    "    s2+=p2[i]*x_1[i]\n",
    "nu1=s1/(sum(p1))\n",
    "nu2=s2/(sum(p2))\n",
    "print(\"Оценка максимального правдоподобия для среднего 1:\",nu1)\n",
    "print(\"Оценка максимального правдоподобия для среднего 2:\",nu2)\n",
    "nu1_1=11\n",
    "nu2_2=4.9\n",
    "sko=3.8\n",
    "sko2=2.1\n",
    "pc1=0.4\n",
    "pc2=0.6\n",
    "x1=6.9\n",
    "p_xc1 = norm.pdf(x1,nu1_1,sko)\n",
    "p_xc2= norm.pdf(x1,nu2_2,sko2)\n",
    "pc1_x=(p_xc1*pc1)/(p_xc1*pc1+p_xc2*pc2)\n",
    "pc2_x=(p_xc2*pc2)/(p_xc1*pc1+p_xc2*pc2)\n",
    "print(\"Вероятность принадлежности к 1 кластеру:\",pc1_x)\n",
    "print(\"Вероятность принадлежности к 2 кластеру:\",pc2_x)"
   ]
  },
  {
   "cell_type": "code",
   "execution_count": 9,
   "id": "9ab87bb1",
   "metadata": {
    "execution": {
     "iopub.execute_input": "2022-12-14T20:44:27.606354Z",
     "iopub.status.busy": "2022-12-14T20:44:27.605963Z",
     "iopub.status.idle": "2022-12-14T20:44:27.612530Z",
     "shell.execute_reply": "2022-12-14T20:44:27.611362Z"
    },
    "id": "Ipa_hW4PiA2E",
    "papermill": {
     "duration": 0.01702,
     "end_time": "2022-12-14T20:44:27.614888",
     "exception": false,
     "start_time": "2022-12-14T20:44:27.597868",
     "status": "completed"
    },
    "tags": []
   },
   "outputs": [],
   "source": [
    "data = [\n",
    "[0,1,1,1,0],\n",
    "[1,0,1,0,1],\n",
    "[0,1,0,1,0],\n",
    "[0,1,1,1,1],\n",
    "[0,1,0,0,0],\n",
    "[0,1,1,1,1]]"
   ]
  },
  {
   "cell_type": "code",
   "execution_count": 10,
   "id": "9b3edb94",
   "metadata": {
    "execution": {
     "iopub.execute_input": "2022-12-14T20:44:27.630119Z",
     "iopub.status.busy": "2022-12-14T20:44:27.629703Z",
     "iopub.status.idle": "2022-12-14T20:44:27.636788Z",
     "shell.execute_reply": "2022-12-14T20:44:27.635616Z"
    },
    "papermill": {
     "duration": 0.017424,
     "end_time": "2022-12-14T20:44:27.639066",
     "exception": false,
     "start_time": "2022-12-14T20:44:27.621642",
     "status": "completed"
    },
    "tags": []
   },
   "outputs": [],
   "source": [
    "points=[[3, 8], [3, 7], [4, 7], [5, 8], [2, 7], [4, 8], [19, 1], [6, 8], [1, 7], [9, 2], [2, 8],\n",
    "              [2, 6], [1, 8], [4, 3], [17, 1], [17, 10], [17, 9], [8, 3], [9, 9], [16, 1], [6, 7],\n",
    "              [10, 8], [10, 1], [2, 5], [16, 2]]"
   ]
  },
  {
   "cell_type": "code",
   "execution_count": 11,
   "id": "a7b57b4f",
   "metadata": {
    "execution": {
     "iopub.execute_input": "2022-12-14T20:44:27.655153Z",
     "iopub.status.busy": "2022-12-14T20:44:27.654735Z",
     "iopub.status.idle": "2022-12-14T20:44:27.661070Z",
     "shell.execute_reply": "2022-12-14T20:44:27.659929Z"
    },
    "papermill": {
     "duration": 0.016923,
     "end_time": "2022-12-14T20:44:27.663291",
     "exception": false,
     "start_time": "2022-12-14T20:44:27.646368",
     "status": "completed"
    },
    "tags": []
   },
   "outputs": [],
   "source": [
    "def GetNeighbours(x,et,dist):\n",
    "    all_neighbours=[]\n",
    "    for i in range(len(x)):\n",
    "        neighbours=[]\n",
    "        for j in range(len(x)):\n",
    "            if (i!=j)&(dist(x[i],x[j])<=et):\n",
    "                neighbours+=[j]\n",
    "        all_neighbours+=[neighbours]\n",
    "    return all_neighbours\n",
    "        \n",
    "                "
   ]
  },
  {
   "cell_type": "code",
   "execution_count": 12,
   "id": "c7dc8b7b",
   "metadata": {
    "execution": {
     "iopub.execute_input": "2022-12-14T20:44:27.678531Z",
     "iopub.status.busy": "2022-12-14T20:44:27.678120Z",
     "iopub.status.idle": "2022-12-14T20:44:27.684709Z",
     "shell.execute_reply": "2022-12-14T20:44:27.683650Z"
    },
    "papermill": {
     "duration": 0.016651,
     "end_time": "2022-12-14T20:44:27.686773",
     "exception": false,
     "start_time": "2022-12-14T20:44:27.670122",
     "status": "completed"
    },
    "tags": []
   },
   "outputs": [],
   "source": [
    "def DensityConnected(p, et, minsp, points, cluster, visited,neighbours):\n",
    "    cluster+=[p]\n",
    "    visited+=[p]\n",
    "    if len(neighbours[p])>=minsp:\n",
    "        for n in neighbours[p]:\n",
    "            if n not in visited:\n",
    "                visited,cluster=DensityConnected(n, et, minsp, points, cluster, visited,neighbours)\n",
    "            \n",
    "    return visited, cluster"
   ]
  },
  {
   "cell_type": "code",
   "execution_count": 13,
   "id": "57803f49",
   "metadata": {
    "execution": {
     "iopub.execute_input": "2022-12-14T20:44:27.703200Z",
     "iopub.status.busy": "2022-12-14T20:44:27.702733Z",
     "iopub.status.idle": "2022-12-14T20:44:27.712473Z",
     "shell.execute_reply": "2022-12-14T20:44:27.711127Z"
    },
    "papermill": {
     "duration": 0.020319,
     "end_time": "2022-12-14T20:44:27.714839",
     "exception": false,
     "start_time": "2022-12-14T20:44:27.694520",
     "status": "completed"
    },
    "tags": []
   },
   "outputs": [],
   "source": [
    "def DBScan(x,et,dist,minsp):\n",
    "    core=[]\n",
    "    noise=[]\n",
    "    border=[]\n",
    "    neighbours=GetNeighbours(x,et,dist)\n",
    "    for i in range(len(x)):\n",
    "        if (len(neighbours[i]))>=minsp:\n",
    "            core+=[i]\n",
    "    visited=[]\n",
    "    clusters=[]\n",
    "    for p in core:\n",
    "        if p not in visited:\n",
    "            cl=[]\n",
    "            cl,visited=DensityConnected(p, et, minsp, points, cl, visited,neighbours)\n",
    "            clusters+=[cl]\n",
    "    visit=[]\n",
    "    for i in visited:\n",
    "        visit+=[x[i]]\n",
    "    for k in points:\n",
    "        if k not in visit:\n",
    "            noise+=[k]\n",
    "    print(noise)\n",
    "    for k in visit:\n",
    "        if k not in core:\n",
    "            border+=[k]\n",
    "    print(border)\n",
    "    return clusters,core,border,noise"
   ]
  },
  {
   "cell_type": "code",
   "execution_count": 14,
   "id": "3606aca7",
   "metadata": {
    "execution": {
     "iopub.execute_input": "2022-12-14T20:44:27.730246Z",
     "iopub.status.busy": "2022-12-14T20:44:27.729690Z",
     "iopub.status.idle": "2022-12-14T20:44:27.736049Z",
     "shell.execute_reply": "2022-12-14T20:44:27.734625Z"
    },
    "papermill": {
     "duration": 0.016727,
     "end_time": "2022-12-14T20:44:27.738357",
     "exception": false,
     "start_time": "2022-12-14T20:44:27.721630",
     "status": "completed"
    },
    "tags": []
   },
   "outputs": [],
   "source": [
    "def metric1(x,y):\n",
    "    metric=np.sqrt((x[0]-y[0])**2)+np.sqrt((x[1]-y[1])**2)\n",
    "    return metric"
   ]
  },
  {
   "cell_type": "code",
   "execution_count": 15,
   "id": "cbbda302",
   "metadata": {
    "execution": {
     "iopub.execute_input": "2022-12-14T20:44:27.753627Z",
     "iopub.status.busy": "2022-12-14T20:44:27.753256Z",
     "iopub.status.idle": "2022-12-14T20:44:28.201835Z",
     "shell.execute_reply": "2022-12-14T20:44:28.200629Z"
    },
    "papermill": {
     "duration": 0.459416,
     "end_time": "2022-12-14T20:44:28.204644",
     "exception": false,
     "start_time": "2022-12-14T20:44:27.745228",
     "status": "completed"
    },
    "tags": []
   },
   "outputs": [
    {
     "name": "stdout",
     "output_type": "stream",
     "text": [
      "[[19, 1], [9, 2], [4, 3], [17, 1], [17, 10], [17, 9], [8, 3], [9, 9], [16, 1], [10, 8], [10, 1], [16, 2]]\n",
      "[[3, 8], [3, 7], [4, 7], [5, 8], [4, 8], [6, 8], [2, 8], [2, 7], [1, 7], [2, 6], [2, 5], [1, 8], [6, 7]]\n"
     ]
    },
    {
     "data": {
      "image/png": "[encoded data removed]",
      "text/plain": [
       "<Figure size 720x432 with 1 Axes>"
      ]
     },
     "metadata": {
      "needs_background": "light"
     },
     "output_type": "display_data"
    }
   ],
   "source": [
    "x=[3,3,4,5,2,4,19,6,1,9,2,2,1,4,17,17,17,8,9,16,6,10,10,2,16]\n",
    "y=[8,7,7,8,7,8,1,8,7,2,8,6,8,3,1,10,9,3,9,1,7,8,1,5,2]\n",
    "clusters,core,border,noise=DBScan(points,2,metric1,5)\n",
    "fig,ax = plt.subplots(figsize=(10, 6))\n",
    "for i in range(len(clusters)):\n",
    "    for j in range(len(clusters[i])):\n",
    "        ax.scatter(x[clusters[i][j]],y[clusters[i][j]],c=i)\n",
    "for i in range(len(noise)):\n",
    "    ax.plot(noise[i][0],noise[i][1],'go')\n",
    "for i in range(len(points)):\n",
    "    plt.annotate(i+1,(points[i][0]+0.2,points[i][1]))\n",
    "plt.show()"
   ]
  },
  {
   "cell_type": "code",
   "execution_count": 16,
   "id": "65d48331",
   "metadata": {
    "execution": {
     "iopub.execute_input": "2022-12-14T20:44:28.220768Z",
     "iopub.status.busy": "2022-12-14T20:44:28.220329Z",
     "iopub.status.idle": "2022-12-14T20:44:28.226425Z",
     "shell.execute_reply": "2022-12-14T20:44:28.225413Z"
    },
    "papermill": {
     "duration": 0.016654,
     "end_time": "2022-12-14T20:44:28.228678",
     "exception": false,
     "start_time": "2022-12-14T20:44:28.212024",
     "status": "completed"
    },
    "tags": []
   },
   "outputs": [],
   "source": [
    "def metric2(x,y):\n",
    "    metric=np.sqrt(np.abs(x[0] - y[0]))**2+np.sqrt(np.abs(x[1] - y[1]))**2\n",
    "    return metric"
   ]
  },
  {
   "cell_type": "code",
   "execution_count": 17,
   "id": "9f0b6dd5",
   "metadata": {
    "execution": {
     "iopub.execute_input": "2022-12-14T20:44:28.245251Z",
     "iopub.status.busy": "2022-12-14T20:44:28.244857Z",
     "iopub.status.idle": "2022-12-14T20:44:28.721984Z",
     "shell.execute_reply": "2022-12-14T20:44:28.720801Z"
    },
    "papermill": {
     "duration": 0.488305,
     "end_time": "2022-12-14T20:44:28.724566",
     "exception": false,
     "start_time": "2022-12-14T20:44:28.236261",
     "status": "completed"
    },
    "tags": []
   },
   "outputs": [
    {
     "name": "stdout",
     "output_type": "stream",
     "text": [
      "[[19, 1], [9, 2], [17, 1], [17, 10], [17, 9], [8, 3], [16, 1], [10, 1], [16, 2]]\n",
      "[[3, 8], [3, 7], [4, 7], [5, 8], [2, 7], [4, 8], [6, 8], [2, 8], [1, 7], [2, 6], [1, 8], [2, 5], [9, 9], [6, 7], [10, 8], [4, 3]]\n"
     ]
    },
    {
     "data": {
      "image/png": "[encoded data removed]",
      "text/plain": [
       "<Figure size 720x432 with 1 Axes>"
      ]
     },
     "metadata": {
      "needs_background": "light"
     },
     "output_type": "display_data"
    }
   ],
   "source": [
    "clusters,core,border,noise=DBScan(points,4,metric2,4)\n",
    "fig,ax = plt.subplots(figsize=(10, 6))\n",
    "for i in range(len(clusters)):\n",
    "    for j in range(len(clusters[i])):\n",
    "        ax.scatter(x[clusters[i][j]],y[clusters[i][j]],c=i)\n",
    "for i in range(len(noise)):\n",
    "    ax.plot(noise[i][0],noise[i][1],'go')\n",
    "for i in range(len(points)):\n",
    "    plt.annotate(i+1,(points[i][0]+0.2,points[i][1]))\n",
    "plt.show()"
   ]
  },
  {
   "cell_type": "code",
   "execution_count": 18,
   "id": "f06d5382",
   "metadata": {
    "execution": {
     "iopub.execute_input": "2022-12-14T20:44:28.741492Z",
     "iopub.status.busy": "2022-12-14T20:44:28.741090Z",
     "iopub.status.idle": "2022-12-14T20:44:28.746907Z",
     "shell.execute_reply": "2022-12-14T20:44:28.745727Z"
    },
    "papermill": {
     "duration": 0.016978,
     "end_time": "2022-12-14T20:44:28.749266",
     "exception": false,
     "start_time": "2022-12-14T20:44:28.732288",
     "status": "completed"
    },
    "tags": []
   },
   "outputs": [],
   "source": [
    "def metric3(x,y):\n",
    "    metric=max(abs(x[0]-y[0]),abs(x[1]-y[1]))\n",
    "    return metric"
   ]
  },
  {
   "cell_type": "code",
   "execution_count": 19,
   "id": "7442ce24",
   "metadata": {
    "execution": {
     "iopub.execute_input": "2022-12-14T20:44:28.766370Z",
     "iopub.status.busy": "2022-12-14T20:44:28.765941Z",
     "iopub.status.idle": "2022-12-14T20:44:30.587265Z",
     "shell.execute_reply": "2022-12-14T20:44:30.585862Z"
    },
    "papermill": {
     "duration": 1.832554,
     "end_time": "2022-12-14T20:44:30.589688",
     "exception": false,
     "start_time": "2022-12-14T20:44:28.757134",
     "status": "completed"
    },
    "tags": []
   },
   "outputs": [
    {
     "name": "stdout",
     "output_type": "stream",
     "text": [
      "[[3, 8], [3, 7], [4, 7], [5, 8], [2, 7], [4, 8], [6, 8], [1, 7], [9, 2], [2, 8], [2, 6], [1, 8], [4, 3], [17, 10], [17, 9], [8, 3], [9, 9], [6, 7], [10, 8], [10, 1], [2, 5]]\n",
      "[[16, 2], [19, 1], [17, 1], [16, 1]]\n"
     ]
    },
    {
     "data": {
      "image/png": "[encoded data removed]",
      "text/plain": [
       "<Figure size 720x432 with 1 Axes>"
      ]
     },
     "metadata": {
      "needs_background": "light"
     },
     "output_type": "display_data"
    }
   ],
   "source": [
    "clusters,core,border,noise=DBScan(points,3,metric3,3)\n",
    "fig,ax = plt.subplots(figsize=(10, 6))\n",
    "for i in range(len(clusters)):\n",
    "    for j in range(len(clusters[i])):\n",
    "        ax.scatter(x[clusters[i][j]],y[clusters[i][j]],c=i)\n",
    "for i in range(len(noise)):\n",
    "    ax.plot(noise[i][0],noise[i][1],'ro')\n",
    "for i in range(len(points)):\n",
    "    plt.annotate(i+1,(points[i][0]+0.2,points[i][1]))\n",
    "plt.show()"
   ]
  }
 ],
 "metadata": {
  "kernelspec": {
   "display_name": "Python 3",
   "language": "python",
   "name": "python3"
  },
  "language_info": {
   "codemirror_mode": {
    "name": "ipython",
    "version": 3
   },
   "file_extension": ".py",
   "mimetype": "text/x-python",
   "name": "python",
   "nbconvert_exporter": "python",
   "pygments_lexer": "ipython3",
   "version": "3.7.12"
  },
  "papermill": {
   "default_parameters": {},
   "duration": 14.243376,
   "end_time": "2022-12-14T20:44:31.420948",
   "environment_variables": {},
   "exception": null,
   "input_path": "__notebook__.ipynb",
   "output_path": "__notebook__.ipynb",
   "parameters": {},
   "start_time": "2022-12-14T20:44:17.177572",
   "version": "2.3.4"
  }
 },
 "nbformat": 4,
 "nbformat_minor": 5
}
